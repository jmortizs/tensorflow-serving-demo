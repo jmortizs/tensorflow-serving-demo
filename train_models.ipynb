{
 "cells": [
  {
   "cell_type": "code",
   "execution_count": null,
   "source": [
    "import tensorflow as tf\n",
    "from tensorflow import keras\n"
   ],
   "outputs": [],
   "metadata": {}
  },
  {
   "cell_type": "code",
   "execution_count": null,
   "source": [
    "# check tensorflow version\n",
    "print(f'Tensorflow version: {tf.__version__}')"
   ],
   "outputs": [],
   "metadata": {}
  },
  {
   "cell_type": "code",
   "execution_count": null,
   "source": [
    "# Load fashion mnist dataset\n",
    "fashion_mnist = keras.datasets.fashion_mnist\n",
    "(train_images, train_labels), (test_images, test_labels) = fashion_mnist.load_data()\n",
    "\n",
    "train_images = train_images / 255.\n",
    "test_images = test_images / 255.\n",
    "\n",
    "train_images = train_images.reshape(train_images.shape[0], 28, 28, 1)\n",
    "test_images = test_images.reshape(test_images.shape[0], 28, 28, 1)\n",
    "\n",
    "class_names = ['T-shirt/top', 'Trouser', 'Pullover', 'Dress', 'Coat',\n",
    "               'Sandal', 'Shirt', 'Sneaker', 'Bag', 'Ankle boot']\n",
    "print(f'Train images shape: {train_images.shape} of {train_images.dtype}')\n",
    "print(f'Test images shape: {test_images.shape} of {test_images.dtype}')"
   ],
   "outputs": [],
   "metadata": {}
  },
  {
   "cell_type": "code",
   "execution_count": null,
   "source": [
    "# train model\n",
    "epochs = 5\n",
    "model_fashion = keras.Sequential([\n",
    "  keras.layers.Conv2D(input_shape=(28,28,1), filters=8, kernel_size=3, \n",
    "                      strides=2, activation='relu', name='conv1'),\n",
    "  keras.layers.Flatten(),\n",
    "  keras.layers.Dense(10, name='Dense')\n",
    "])\n",
    "model_fashion.summary()\n",
    "\n",
    "model_fashion.compile(optimizer='adam', \n",
    "              loss=tf.keras.losses.SparseCategoricalCrossentropy(from_logits=True),\n",
    "              metrics=[keras.metrics.SparseCategoricalAccuracy()])\n",
    "\n",
    "model_fashion.fit(train_images, train_labels, epochs=epochs)\n",
    "\n",
    "test_loss, test_acc = model_fashion.evaluate(test_images, test_labels)\n",
    "print(f'Test accuracy: {test_acc}')"
   ],
   "outputs": [],
   "metadata": {}
  },
  {
   "cell_type": "code",
   "execution_count": null,
   "source": [
    "# save model\n",
    "tf.keras.models.save_model(\n",
    "    model_fashion,\n",
    "    'models/fashion',\n",
    "    overwrite=True,\n",
    "    include_optimizer=True,\n",
    "    save_format=True,\n",
    "    signatures=None,\n",
    "    options=None\n",
    ")\n",
    "print('Model saved.')\n",
    "!ls -lh models/fashion/"
   ],
   "outputs": [],
   "metadata": {}
  },
  {
   "cell_type": "code",
   "execution_count": null,
   "source": [
    "# Load mnist dataset\n",
    "mnist = keras.datasets.mnist\n",
    "(train_images, train_labels), (test_images, test_labels) = mnist.load_data()\n",
    "\n",
    "train_images = train_images / 255.\n",
    "test_images = test_images / 255.\n",
    "\n",
    "train_images = train_images.reshape(train_images.shape[0], 28, 28, 1)\n",
    "test_images = test_images.reshape(test_images.shape[0], 28, 28, 1)\n",
    "\n",
    "\n",
    "print(f'Train images shape: {train_images.shape} of {train_images.dtype}')\n",
    "print(f'Test images shape: {test_images.shape} of {test_images.dtype}')"
   ],
   "outputs": [],
   "metadata": {}
  },
  {
   "cell_type": "code",
   "execution_count": null,
   "source": [
    "# train model\n",
    "model_digits = keras.Sequential([\n",
    "  keras.layers.Conv2D(input_shape=(28,28,1), filters=8, kernel_size=3, \n",
    "                      strides=2, activation='relu', name='conv1'),\n",
    "  keras.layers.Flatten(),\n",
    "  keras.layers.Dense(10, name='Dense')\n",
    "])\n",
    "model_digits.summary()\n",
    "\n",
    "model_digits.compile(optimizer='adam', \n",
    "              loss=tf.keras.losses.SparseCategoricalCrossentropy(from_logits=True),\n",
    "              metrics=[keras.metrics.SparseCategoricalAccuracy()])\n",
    "\n",
    "model_digits.fit(train_images, train_labels, epochs=epochs)\n",
    "\n",
    "test_loss, test_acc = model_digits.evaluate(test_images, test_labels)\n",
    "print(f'Test accuracy: {test_acc}')"
   ],
   "outputs": [],
   "metadata": {}
  },
  {
   "cell_type": "code",
   "execution_count": null,
   "source": [
    "# save model\n",
    "tf.keras.models.save_model(\n",
    "    model_digits,\n",
    "    'models/digits',\n",
    "    overwrite=True,\n",
    "    include_optimizer=True,\n",
    "    save_format=True,\n",
    "    signatures=None,\n",
    "    options=None\n",
    ")\n",
    "print('Model saved.')\n",
    "!ls -lh models/digits/"
   ],
   "outputs": [],
   "metadata": {}
  },
  {
   "cell_type": "code",
   "execution_count": null,
   "source": [],
   "outputs": [],
   "metadata": {}
  }
 ],
 "metadata": {
  "orig_nbformat": 4,
  "language_info": {
   "name": "python",
   "version": "3.8.11",
   "mimetype": "text/x-python",
   "codemirror_mode": {
    "name": "ipython",
    "version": 3
   },
   "pygments_lexer": "ipython3",
   "nbconvert_exporter": "python",
   "file_extension": ".py"
  },
  "kernelspec": {
   "name": "python3",
   "display_name": "Python 3.8.11 64-bit ('tensorflow': conda)"
  },
  "interpreter": {
   "hash": "806985aecbd877d94ee16133c9026384652bfcfdc00f8bed7884745684cccaf7"
  }
 },
 "nbformat": 4,
 "nbformat_minor": 2
}